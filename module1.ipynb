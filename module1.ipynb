{
 "cells": [
  {
   "cell_type": "code",
   "execution_count": null,
   "id": "1aa5c414",
   "metadata": {},
   "outputs": [],
   "source": [
    "#1) sum of the first n positive integers.\n",
    "n = int(input(\"input a number: \"))\n",
    "sum_num = (n*(n+1))/2\n",
    "print('sum of the first',n,\"positive integers:\",sum_num)"
   ]
  },
  {
   "cell_type": "code",
   "execution_count": null,
   "id": "3575bc8a",
   "metadata": {},
   "outputs": [],
   "source": [
    "sum_num =200\n",
    "print(sum_num)"
   ]
  },
  {
   "cell_type": "code",
   "execution_count": null,
   "id": "d8359e37",
   "metadata": {},
   "outputs": [],
   "source": [
    "#2)count occurrences of a substring in a string\n",
    "str1 = 'i am completed engineering in government collage'\n",
    "print(str1.count(\"e\"))\n",
    "print(print)"
   ]
  },
  {
   "cell_type": "markdown",
   "id": "cf738ecd",
   "metadata": {},
   "source": []
  },
  {
   "cell_type": "code",
   "execution_count": null,
   "id": "eaddcdef",
   "metadata": {},
   "outputs": [],
   "source": [
    "#3)count the occurrences of each word in a given sentences.\n",
    "string = \"india is growing country in world in future\"\n",
    "substring = \"i\"\n",
    "count = string.count(substring)\n",
    "print(\"the count is:\",count)"
   ]
  },
  {
   "cell_type": "code",
   "execution_count": 1,
   "id": "f36692f4",
   "metadata": {},
   "outputs": [
    {
     "name": "stdout",
     "output_type": "stream",
     "text": [
      "first string: jitendra\n",
      "second string: : wagh\n",
      "first string :-  watendra\n",
      "second string :-  jigh\n"
     ]
    }
   ],
   "source": [
    "#4) python two given strings and swap first two characters of each string\n",
    "str1 = input(\"first string: \")\n",
    "str2 = input(\"second string: : \")\n",
    "x=str1[0:2]\n",
    "str1=str1.replace(str1[0:2],str2[0:2])\n",
    "str2=str2.replace(str2[0:2],x)\n",
    "print(\"first string :- \",str1)\n",
    "print(\"second string :- \",str2)"
   ]
  }
 ],
 "metadata": {
  "kernelspec": {
   "display_name": "Python 3 (ipykernel)",
   "language": "python",
   "name": "python3"
  },
  "language_info": {
   "codemirror_mode": {
    "name": "ipython",
    "version": 3
   },
   "file_extension": ".py",
   "mimetype": "text/x-python",
   "name": "python",
   "nbconvert_exporter": "python",
   "pygments_lexer": "ipython3",
   "version": "3.9.12"
  }
 },
 "nbformat": 4,
 "nbformat_minor": 5
}
